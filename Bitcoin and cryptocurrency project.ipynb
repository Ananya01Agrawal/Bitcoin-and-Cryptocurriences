{
 "cells": [
  {
   "cell_type": "markdown",
   "id": "a70e87c8",
   "metadata": {},
   "source": [
    "# Project Exploring the Bitcoin Cryptocurrency Market\n"
   ]
  },
  {
   "cell_type": "markdown",
   "id": "3fe0412c",
   "metadata": {},
   "source": [
    "## 1.Bitcoin and Cryptocurrencies: Full dataset, filtering, and reproducibility"
   ]
  },
  {
   "cell_type": "code",
   "execution_count": 1,
   "id": "20950911",
   "metadata": {},
   "outputs": [
    {
     "data": {
      "text/html": [
       "<div>\n",
       "<style scoped>\n",
       "    .dataframe tbody tr th:only-of-type {\n",
       "        vertical-align: middle;\n",
       "    }\n",
       "\n",
       "    .dataframe tbody tr th {\n",
       "        vertical-align: top;\n",
       "    }\n",
       "\n",
       "    .dataframe thead th {\n",
       "        text-align: right;\n",
       "    }\n",
       "</style>\n",
       "<table border=\"1\" class=\"dataframe\">\n",
       "  <thead>\n",
       "    <tr style=\"text-align: right;\">\n",
       "      <th></th>\n",
       "      <th></th>\n",
       "      <th>24h_volume_usd</th>\n",
       "      <th>available_supply</th>\n",
       "      <th>id</th>\n",
       "      <th>last_updated</th>\n",
       "      <th>market_cap_usd</th>\n",
       "      <th>max_supply</th>\n",
       "      <th>name</th>\n",
       "      <th>percent_change_1h</th>\n",
       "      <th>percent_change_24h</th>\n",
       "      <th>percent_change_7d</th>\n",
       "      <th>price_btc</th>\n",
       "      <th>price_usd</th>\n",
       "      <th>rank</th>\n",
       "      <th>symbol</th>\n",
       "      <th>total_supply</th>\n",
       "    </tr>\n",
       "  </thead>\n",
       "  <tbody>\n",
       "    <tr>\n",
       "      <th>0</th>\n",
       "      <td>0</td>\n",
       "      <td>9.007640e+09</td>\n",
       "      <td>1.672352e+07</td>\n",
       "      <td>bitcoin</td>\n",
       "      <td>1512549554</td>\n",
       "      <td>2.130493e+11</td>\n",
       "      <td>2.100000e+07</td>\n",
       "      <td>Bitcoin</td>\n",
       "      <td>0.12</td>\n",
       "      <td>7.33</td>\n",
       "      <td>17.45</td>\n",
       "      <td>1.000000e+00</td>\n",
       "      <td>12739.500000</td>\n",
       "      <td>1</td>\n",
       "      <td>BTC</td>\n",
       "      <td>1.672352e+07</td>\n",
       "    </tr>\n",
       "    <tr>\n",
       "      <th>1</th>\n",
       "      <td>1</td>\n",
       "      <td>1.551330e+09</td>\n",
       "      <td>9.616537e+07</td>\n",
       "      <td>ethereum</td>\n",
       "      <td>1512549553</td>\n",
       "      <td>4.352945e+10</td>\n",
       "      <td>NaN</td>\n",
       "      <td>Ethereum</td>\n",
       "      <td>-0.18</td>\n",
       "      <td>-3.93</td>\n",
       "      <td>-7.33</td>\n",
       "      <td>3.617670e-02</td>\n",
       "      <td>452.652000</td>\n",
       "      <td>2</td>\n",
       "      <td>ETH</td>\n",
       "      <td>9.616537e+07</td>\n",
       "    </tr>\n",
       "    <tr>\n",
       "      <th>2</th>\n",
       "      <td>2</td>\n",
       "      <td>1.111350e+09</td>\n",
       "      <td>1.684044e+07</td>\n",
       "      <td>bitcoin-cash</td>\n",
       "      <td>1512549578</td>\n",
       "      <td>2.529585e+10</td>\n",
       "      <td>2.100000e+07</td>\n",
       "      <td>Bitcoin Cash</td>\n",
       "      <td>1.65</td>\n",
       "      <td>-5.51</td>\n",
       "      <td>-4.75</td>\n",
       "      <td>1.200500e-01</td>\n",
       "      <td>1502.090000</td>\n",
       "      <td>3</td>\n",
       "      <td>BCH</td>\n",
       "      <td>1.684044e+07</td>\n",
       "    </tr>\n",
       "    <tr>\n",
       "      <th>3</th>\n",
       "      <td>3</td>\n",
       "      <td>2.936090e+09</td>\n",
       "      <td>2.779530e+09</td>\n",
       "      <td>iota</td>\n",
       "      <td>1512549571</td>\n",
       "      <td>1.475225e+10</td>\n",
       "      <td>2.779530e+09</td>\n",
       "      <td>IOTA</td>\n",
       "      <td>-2.38</td>\n",
       "      <td>83.35</td>\n",
       "      <td>255.82</td>\n",
       "      <td>4.241800e-04</td>\n",
       "      <td>5.307460</td>\n",
       "      <td>4</td>\n",
       "      <td>MIOTA</td>\n",
       "      <td>2.779530e+09</td>\n",
       "    </tr>\n",
       "    <tr>\n",
       "      <th>4</th>\n",
       "      <td>4</td>\n",
       "      <td>2.315050e+08</td>\n",
       "      <td>3.873915e+10</td>\n",
       "      <td>ripple</td>\n",
       "      <td>1512549541</td>\n",
       "      <td>9.365343e+09</td>\n",
       "      <td>1.000000e+11</td>\n",
       "      <td>Ripple</td>\n",
       "      <td>0.56</td>\n",
       "      <td>-3.70</td>\n",
       "      <td>-14.79</td>\n",
       "      <td>1.932000e-05</td>\n",
       "      <td>0.241754</td>\n",
       "      <td>5</td>\n",
       "      <td>XRP</td>\n",
       "      <td>9.999309e+10</td>\n",
       "    </tr>\n",
       "    <tr>\n",
       "      <th>...</th>\n",
       "      <td>...</td>\n",
       "      <td>...</td>\n",
       "      <td>...</td>\n",
       "      <td>...</td>\n",
       "      <td>...</td>\n",
       "      <td>...</td>\n",
       "      <td>...</td>\n",
       "      <td>...</td>\n",
       "      <td>...</td>\n",
       "      <td>...</td>\n",
       "      <td>...</td>\n",
       "      <td>...</td>\n",
       "      <td>...</td>\n",
       "      <td>...</td>\n",
       "      <td>...</td>\n",
       "      <td>...</td>\n",
       "    </tr>\n",
       "    <tr>\n",
       "      <th>1321</th>\n",
       "      <td>1321</td>\n",
       "      <td>NaN</td>\n",
       "      <td>NaN</td>\n",
       "      <td>turbocoin</td>\n",
       "      <td>1512368664</td>\n",
       "      <td>NaN</td>\n",
       "      <td>NaN</td>\n",
       "      <td>TurboCoin</td>\n",
       "      <td>NaN</td>\n",
       "      <td>NaN</td>\n",
       "      <td>8.12</td>\n",
       "      <td>1.000000e-08</td>\n",
       "      <td>0.000114</td>\n",
       "      <td>1322</td>\n",
       "      <td>TURBO</td>\n",
       "      <td>NaN</td>\n",
       "    </tr>\n",
       "    <tr>\n",
       "      <th>1322</th>\n",
       "      <td>1322</td>\n",
       "      <td>NaN</td>\n",
       "      <td>NaN</td>\n",
       "      <td>birds</td>\n",
       "      <td>1512535772</td>\n",
       "      <td>NaN</td>\n",
       "      <td>NaN</td>\n",
       "      <td>Birds</td>\n",
       "      <td>NaN</td>\n",
       "      <td>10.62</td>\n",
       "      <td>-42.10</td>\n",
       "      <td>1.000000e-08</td>\n",
       "      <td>0.000122</td>\n",
       "      <td>1323</td>\n",
       "      <td>BIRDS</td>\n",
       "      <td>NaN</td>\n",
       "    </tr>\n",
       "    <tr>\n",
       "      <th>1323</th>\n",
       "      <td>1323</td>\n",
       "      <td>NaN</td>\n",
       "      <td>NaN</td>\n",
       "      <td>bitcoincashscrypt</td>\n",
       "      <td>1512548078</td>\n",
       "      <td>NaN</td>\n",
       "      <td>NaN</td>\n",
       "      <td>BitcoinCashScrypt</td>\n",
       "      <td>-0.37</td>\n",
       "      <td>-37.39</td>\n",
       "      <td>-27.69</td>\n",
       "      <td>5.000000e-07</td>\n",
       "      <td>0.006202</td>\n",
       "      <td>1324</td>\n",
       "      <td>BCCS</td>\n",
       "      <td>2.502380e+06</td>\n",
       "    </tr>\n",
       "    <tr>\n",
       "      <th>1324</th>\n",
       "      <td>1324</td>\n",
       "      <td>NaN</td>\n",
       "      <td>NaN</td>\n",
       "      <td>swisscoin</td>\n",
       "      <td>1512540278</td>\n",
       "      <td>NaN</td>\n",
       "      <td>NaN</td>\n",
       "      <td>Swisscoin</td>\n",
       "      <td>NaN</td>\n",
       "      <td>4.39</td>\n",
       "      <td>-22.84</td>\n",
       "      <td>1.000000e-08</td>\n",
       "      <td>0.000123</td>\n",
       "      <td>1325</td>\n",
       "      <td>SIC</td>\n",
       "      <td>1.020000e+10</td>\n",
       "    </tr>\n",
       "    <tr>\n",
       "      <th>1325</th>\n",
       "      <td>1325</td>\n",
       "      <td>NaN</td>\n",
       "      <td>NaN</td>\n",
       "      <td>faceblock</td>\n",
       "      <td>1512435283</td>\n",
       "      <td>NaN</td>\n",
       "      <td>NaN</td>\n",
       "      <td>Faceblock</td>\n",
       "      <td>NaN</td>\n",
       "      <td>NaN</td>\n",
       "      <td>-6.83</td>\n",
       "      <td>1.400000e-07</td>\n",
       "      <td>0.001654</td>\n",
       "      <td>1326</td>\n",
       "      <td>FBL</td>\n",
       "      <td>1.000000e+07</td>\n",
       "    </tr>\n",
       "  </tbody>\n",
       "</table>\n",
       "<p>1326 rows × 16 columns</p>\n",
       "</div>"
      ],
      "text/plain": [
       "            24h_volume_usd  available_supply                 id  last_updated  \\\n",
       "0        0    9.007640e+09      1.672352e+07            bitcoin    1512549554   \n",
       "1        1    1.551330e+09      9.616537e+07           ethereum    1512549553   \n",
       "2        2    1.111350e+09      1.684044e+07       bitcoin-cash    1512549578   \n",
       "3        3    2.936090e+09      2.779530e+09               iota    1512549571   \n",
       "4        4    2.315050e+08      3.873915e+10             ripple    1512549541   \n",
       "...    ...             ...               ...                ...           ...   \n",
       "1321  1321             NaN               NaN          turbocoin    1512368664   \n",
       "1322  1322             NaN               NaN              birds    1512535772   \n",
       "1323  1323             NaN               NaN  bitcoincashscrypt    1512548078   \n",
       "1324  1324             NaN               NaN          swisscoin    1512540278   \n",
       "1325  1325             NaN               NaN          faceblock    1512435283   \n",
       "\n",
       "      market_cap_usd    max_supply               name  percent_change_1h  \\\n",
       "0       2.130493e+11  2.100000e+07            Bitcoin               0.12   \n",
       "1       4.352945e+10           NaN           Ethereum              -0.18   \n",
       "2       2.529585e+10  2.100000e+07       Bitcoin Cash               1.65   \n",
       "3       1.475225e+10  2.779530e+09               IOTA              -2.38   \n",
       "4       9.365343e+09  1.000000e+11             Ripple               0.56   \n",
       "...              ...           ...                ...                ...   \n",
       "1321             NaN           NaN          TurboCoin                NaN   \n",
       "1322             NaN           NaN              Birds                NaN   \n",
       "1323             NaN           NaN  BitcoinCashScrypt              -0.37   \n",
       "1324             NaN           NaN          Swisscoin                NaN   \n",
       "1325             NaN           NaN          Faceblock                NaN   \n",
       "\n",
       "      percent_change_24h  percent_change_7d     price_btc     price_usd  rank  \\\n",
       "0                   7.33              17.45  1.000000e+00  12739.500000     1   \n",
       "1                  -3.93              -7.33  3.617670e-02    452.652000     2   \n",
       "2                  -5.51              -4.75  1.200500e-01   1502.090000     3   \n",
       "3                  83.35             255.82  4.241800e-04      5.307460     4   \n",
       "4                  -3.70             -14.79  1.932000e-05      0.241754     5   \n",
       "...                  ...                ...           ...           ...   ...   \n",
       "1321                 NaN               8.12  1.000000e-08      0.000114  1322   \n",
       "1322               10.62             -42.10  1.000000e-08      0.000122  1323   \n",
       "1323              -37.39             -27.69  5.000000e-07      0.006202  1324   \n",
       "1324                4.39             -22.84  1.000000e-08      0.000123  1325   \n",
       "1325                 NaN              -6.83  1.400000e-07      0.001654  1326   \n",
       "\n",
       "     symbol  total_supply  \n",
       "0       BTC  1.672352e+07  \n",
       "1       ETH  9.616537e+07  \n",
       "2       BCH  1.684044e+07  \n",
       "3     MIOTA  2.779530e+09  \n",
       "4       XRP  9.999309e+10  \n",
       "...     ...           ...  \n",
       "1321  TURBO           NaN  \n",
       "1322  BIRDS           NaN  \n",
       "1323   BCCS  2.502380e+06  \n",
       "1324    SIC  1.020000e+10  \n",
       "1325    FBL  1.000000e+07  \n",
       "\n",
       "[1326 rows x 16 columns]"
      ]
     },
     "execution_count": 1,
     "metadata": {},
     "output_type": "execute_result"
    }
   ],
   "source": [
    "# importing pandas\n",
    "import pandas as pd\n",
    "\n",
    "#importing matplotlib \n",
    "\n",
    "import matplotlib.pyplot as plt\n",
    "\n",
    "# Reading datasets cryptocurrency.csv into pandaas\n",
    "bitcoin=pd.read_csv(\"cryptocurrency.csv\")\n",
    "\n",
    "bitcoin\n"
   ]
  },
  {
   "cell_type": "code",
   "execution_count": 2,
   "id": "6d1483c3",
   "metadata": {},
   "outputs": [
    {
     "name": "stdout",
     "output_type": "stream",
     "text": [
      "                     id  market_cap_usd\n",
      "0               bitcoin    2.130493e+11\n",
      "1              ethereum    4.352945e+10\n",
      "2          bitcoin-cash    2.529585e+10\n",
      "3                  iota    1.475225e+10\n",
      "4                ripple    9.365343e+09\n",
      "...                 ...             ...\n",
      "1321          turbocoin             NaN\n",
      "1322              birds             NaN\n",
      "1323  bitcoincashscrypt             NaN\n",
      "1324          swisscoin             NaN\n",
      "1325          faceblock             NaN\n",
      "\n",
      "[1326 rows x 2 columns]\n"
     ]
    }
   ],
   "source": [
    "# Selecting the 'id' and 'market_cap_usd' columns\n",
    "b1=bitcoin[['id','market_cap_usd']]\n",
    "print(b1)"
   ]
  },
  {
   "cell_type": "code",
   "execution_count": 3,
   "id": "d9018cec",
   "metadata": {},
   "outputs": [
    {
     "name": "stdout",
     "output_type": "stream",
     "text": [
      "id_count: 1326\n",
      "market_cap_usd_count: 1031\n"
     ]
    }
   ],
   "source": [
    "# Counting number of values  \n",
    "print(f\"id_count: {b1['id'].count()}\\nmarket_cap_usd_count: {b1['market_cap_usd'].count()}\")\n"
   ]
  },
  {
   "cell_type": "markdown",
   "id": "0c3e7532",
   "metadata": {},
   "source": [
    "## 2.Discard the cryptocurrencies without a market capitalization"
   ]
  },
  {
   "cell_type": "code",
   "execution_count": 4,
   "id": "b92b7e8c",
   "metadata": {},
   "outputs": [
    {
     "name": "stdout",
     "output_type": "stream",
     "text": [
      "id_count: 1031\n",
      "market_cap-usd_count: 1031\n"
     ]
    }
   ],
   "source": [
    "# Filtering out rows without  a market capitalization\n",
    "b1=bitcoin.dropna(subset=['market_cap_usd'])\n",
    "print('id_count: ',b1['id'].count(),'\\n','market_cap-usd_count: ',b1['market_cap_usd'].count(),sep='')\n"
   ]
  },
  {
   "cell_type": "markdown",
   "id": "b5ee0346",
   "metadata": {},
   "source": [
    "## 3.How big is Bitcoin compared with the rest of the cryptocurrencies?"
   ]
  },
  {
   "cell_type": "code",
   "execution_count": 5,
   "id": "5c47d565",
   "metadata": {},
   "outputs": [
    {
     "data": {
      "image/png": "[encoded data removed]",
      "text/plain": [
       "<Figure size 432x288 with 1 Axes>"
      ]
     },
     "metadata": {
      "needs_background": "light"
     },
     "output_type": "display_data"
    }
   ],
   "source": [
    "TOP_CAP_TITLE = 'Top 10 market capitalization'\n",
    "TOP_CAP_YLABEL = '% of total cap'\n",
    "#  Selecting the first 10 rows and setting the index\n",
    "rows10=bitcoin.iloc[0:10].set_index('id')\n",
    " \n",
    "# Calculating market_cap_perc\n",
    "rows10=rows10.assign(market_cap_perc=lambda x:(x.market_cap_usd/bitcoin.market_cap_usd.sum()*100))\n",
    "# Plotting the barplot with the title defined above\n",
    "plt.bar(rows10.index.values,rows10['market_cap_usd'])\n",
    "plt.xticks(rotation=90)\n",
    "plt.title('Top 10 market capitalization')\n",
    "plt.xlabel('id')\n",
    "\n",
    "# Annotating the y axis with the label defined above\n",
    "plt.ylabel(TOP_CAP_YLABEL)\n",
    "plt.show()"
   ]
  },
  {
   "cell_type": "markdown",
   "id": "8b55553c",
   "metadata": {},
   "source": [
    "## 4. Making the plot easier to read and more informative"
   ]
  },
  {
   "cell_type": "code",
   "execution_count": 6,
   "id": "16415991",
   "metadata": {},
   "outputs": [
    {
     "data": {
      "image/png": "[encoded data removed]",
      "text/plain": [
       "<Figure size 432x288 with 1 Axes>"
      ]
     },
     "metadata": {
      "needs_background": "light"
     },
     "output_type": "display_data"
    }
   ],
   "source": [
    "col = ['red', 'yellow', 'black', 'blue', 'orange','green','indigo','grey','blue','blue']\n",
    "#Plotting market_cap_usd as before but adding the colors\n",
    "plt.bar(first10.index.values,first10['market_cap_usd'],color=col )\n",
    "plt.xticks(rotation=90)\n",
    "plt.title('Top 10 market capitalization')\n",
    "#scaling the y-axis  \n",
    "plt.yscale('log')\n",
    "plt.xlabel('id')\n",
    "\n",
    "# Annotating the y axis with 'USD'\n",
    "plt.ylabel('USD')\n",
    "# Final touch! Removing the xlabel as it is not very informative\n",
    "plt.xlabel('')\n",
    "plt.show()"
   ]
  },
  {
   "cell_type": "markdown",
   "id": "03ddd1b4",
   "metadata": {},
   "source": [
    "## 5.What is going on?! Volatility in cryptocurrencies"
   ]
  },
  {
   "cell_type": "code",
   "execution_count": 7,
   "id": "49b8bf9b",
   "metadata": {},
   "outputs": [
    {
     "data": {
      "text/html": [
       "<div>\n",
       "<style scoped>\n",
       "    .dataframe tbody tr th:only-of-type {\n",
       "        vertical-align: middle;\n",
       "    }\n",
       "\n",
       "    .dataframe tbody tr th {\n",
       "        vertical-align: top;\n",
       "    }\n",
       "\n",
       "    .dataframe thead th {\n",
       "        text-align: right;\n",
       "    }\n",
       "</style>\n",
       "<table border=\"1\" class=\"dataframe\">\n",
       "  <thead>\n",
       "    <tr style=\"text-align: right;\">\n",
       "      <th></th>\n",
       "      <th>percent_change_24h</th>\n",
       "      <th>percent_change_7d</th>\n",
       "    </tr>\n",
       "    <tr>\n",
       "      <th>id</th>\n",
       "      <th></th>\n",
       "      <th></th>\n",
       "    </tr>\n",
       "  </thead>\n",
       "  <tbody>\n",
       "    <tr>\n",
       "      <th>flappycoin</th>\n",
       "      <td>-95.85</td>\n",
       "      <td>-96.61</td>\n",
       "    </tr>\n",
       "    <tr>\n",
       "      <th>credence-coin</th>\n",
       "      <td>-94.22</td>\n",
       "      <td>-95.31</td>\n",
       "    </tr>\n",
       "    <tr>\n",
       "      <th>coupecoin</th>\n",
       "      <td>-93.93</td>\n",
       "      <td>-61.24</td>\n",
       "    </tr>\n",
       "    <tr>\n",
       "      <th>tyrocoin</th>\n",
       "      <td>-79.02</td>\n",
       "      <td>-87.43</td>\n",
       "    </tr>\n",
       "    <tr>\n",
       "      <th>petrodollar</th>\n",
       "      <td>-76.55</td>\n",
       "      <td>542.96</td>\n",
       "    </tr>\n",
       "    <tr>\n",
       "      <th>bitok</th>\n",
       "      <td>-74.37</td>\n",
       "      <td>-71.67</td>\n",
       "    </tr>\n",
       "    <tr>\n",
       "      <th>bankcoin</th>\n",
       "      <td>-68.56</td>\n",
       "      <td>50.14</td>\n",
       "    </tr>\n",
       "    <tr>\n",
       "      <th>tellurion</th>\n",
       "      <td>-63.75</td>\n",
       "      <td>-52.59</td>\n",
       "    </tr>\n",
       "    <tr>\n",
       "      <th>shadow-token</th>\n",
       "      <td>-61.40</td>\n",
       "      <td>-59.05</td>\n",
       "    </tr>\n",
       "    <tr>\n",
       "      <th>eusd</th>\n",
       "      <td>-58.89</td>\n",
       "      <td>-25.50</td>\n",
       "    </tr>\n",
       "  </tbody>\n",
       "</table>\n",
       "</div>"
      ],
      "text/plain": [
       "               percent_change_24h  percent_change_7d\n",
       "id                                                  \n",
       "flappycoin                 -95.85             -96.61\n",
       "credence-coin              -94.22             -95.31\n",
       "coupecoin                  -93.93             -61.24\n",
       "tyrocoin                   -79.02             -87.43\n",
       "petrodollar                -76.55             542.96\n",
       "bitok                      -74.37             -71.67\n",
       "bankcoin                   -68.56              50.14\n",
       "tellurion                  -63.75             -52.59\n",
       "shadow-token               -61.40             -59.05\n",
       "eusd                       -58.89             -25.50"
      ]
     },
     "execution_count": 7,
     "metadata": {},
     "output_type": "execute_result"
    }
   ],
   "source": [
    "volatility = bitcoin[['id', 'percent_change_24h', 'percent_change_7d']]\n",
    "## Setting the index to 'id' and dropping all NaN rows\n",
    "volatility=volatility.set_index('id').dropna()\n",
    "# Sorting the DataFrame by percent_change_24h in ascending order\n",
    "volatility=volatility.sort_values(by='percent_change_24h',ascending=True)\n",
    "\n",
    "#checking the first few rows\n",
    "volatility.head(10)\n",
    " \n"
   ]
  },
  {
   "cell_type": "markdown",
   "id": "26c3caf3",
   "metadata": {},
   "source": [
    "## 6.Well, we can already see that things are a bit crazy"
   ]
  },
  {
   "cell_type": "code",
   "execution_count": 8,
   "id": "c45e18a7",
   "metadata": {},
   "outputs": [
    {
     "data": {
      "image/png": "[encoded data removed]",
      "text/plain": [
       "<Figure size 432x288 with 2 Axes>"
      ]
     },
     "metadata": {
      "needs_background": "light"
     },
     "output_type": "display_data"
    }
   ],
   "source": [
    "#Defining a function with 2 parameters, the series to plot and the title\n",
    "def top10_member_plot(input_dataset,title):\n",
    "# Making the subplot and the figure for two side by side plots\n",
    "    plt.subplot(1,2,1)\n",
    "    plt.bar(input_dataset[0:10].index.values,input_dataset[0:10],color='blue')\n",
    "    plt.xticks(rotation=90)\n",
    "# Setting the figure's main title to the text passed as parameter\n",
    "    plt.suptitle(title)\n",
    "# Setting the ylabel to '% change'\n",
    "    plt.ylabel('% change')\n",
    "    plt.xlabel(\"id\")\n",
    "# Same as above, but for the top 10 winners\n",
    "    plt.subplot(1,2,2)\n",
    "    plt.bar(input_dataset[-10:].index.values,input_dataset[-10:],color='red')\n",
    "    plt.tight_layout()\n",
    "    plt.xticks(rotation=90)\n",
    "    plt.xlabel(\"id\")\n",
    "    plt.show()\n",
    "    \n",
    "DTITLE='24 hours top losers and winners'\n",
    "# Calling the function above with the 24 hours period series and title DTITLE\n",
    "top10_member_plot(volatility.percent_change_24h,DTITLE)"
   ]
  },
  {
   "cell_type": "markdown",
   "id": "88127ae9",
   "metadata": {},
   "source": [
    "## 7.Ok, those are... interesting. Let's check the weekly Series too"
   ]
  },
  {
   "cell_type": "code",
   "execution_count": 9,
   "id": "302654ba",
   "metadata": {},
   "outputs": [
    {
     "data": {
      "image/png": "[encoded data removed]",
      "text/plain": [
       "<Figure size 432x288 with 2 Axes>"
      ]
     },
     "metadata": {
      "needs_background": "light"
     },
     "output_type": "display_data"
    }
   ],
   "source": [
    "volatility_weekly= volatility.sort_values(by='percent_change_7d', ascending=True)\n",
    "WTITLE = \"Weekly top losers and winners\"\n",
    "# Calling the top10_subplot function\n",
    "top10_member_plot(volatility_weekly.percent_change_7d,WTITLE)"
   ]
  },
  {
   "cell_type": "markdown",
   "id": "1fc91942",
   "metadata": {},
   "source": [
    "## 8. How small is small?"
   ]
  },
  {
   "cell_type": "code",
   "execution_count": 10,
   "id": "277c383e",
   "metadata": {},
   "outputs": [
    {
     "name": "stdout",
     "output_type": "stream",
     "text": [
      "             id  market_cap_usd\n",
      "0       bitcoin    2.130493e+11\n",
      "1      ethereum    4.352945e+10\n",
      "2  bitcoin-cash    2.529585e+10\n",
      "3          iota    1.475225e+10\n"
     ]
    }
   ],
   "source": [
    "# Selecting everything bigger than 10 billion\n",
    "largecaps=bitcoin[bitcoin['market_cap_usd'] >= 10000000000][['id','market_cap_usd']]\n",
    "# printing out largecaps\n",
    "print(largecaps)"
   ]
  },
  {
   "cell_type": "markdown",
   "id": "52fe2b47",
   "metadata": {},
   "source": [
    "## 9. Most coins are tiny"
   ]
  },
  {
   "cell_type": "code",
   "execution_count": 31,
   "id": "78612565",
   "metadata": {},
   "outputs": [
    {
     "data": {
      "image/png": "[encoded data removed]",
      "text/plain": [
       "<Figure size 432x288 with 1 Axes>"
      ]
     },
     "metadata": {
      "needs_background": "light"
     },
     "output_type": "display_data"
    }
   ],
   "source": [
    "cap=pd.read_csv('cryptocurrency.csv')\n",
    "# Making a nice function for counting different marketcaps from the\n",
    "# \"cap\" DataFrame. Returns an int.\n",
    "def capcount(query_string):\n",
    "    return cap.query(query_string).count().id\n",
    "\n",
    "# Labels for the plot\n",
    "LABELS = [\"biggish\", \"micro\", \"nano\"]\n",
    "\n",
    "# Using capcount count the biggish cryptos\n",
    "big = capcount('market_cap_usd > 3E+8')\n",
    "\n",
    "# Same as above for micro ...\n",
    "micro = capcount('market_cap_usd > 50000000 and market_cap_usd < 300000000')\n",
    "\n",
    "# ... and for nano\n",
    "nano =  capcount('market_cap_usd < 50000000')\n",
    "\n",
    "# Making a list with the 3 counts\n",
    "values = [big, micro, nano]\n",
    "\n",
    "# Plotting them with matplotlib \n",
    "plt.bar(height=values, x=LABELS);\n"
   ]
  }
 ],
 "metadata": {
  "kernelspec": {
   "display_name": "Python 3 (ipykernel)",
   "language": "python",
   "name": "python3"
  },
  "language_info": {
   "codemirror_mode": {
    "name": "ipython",
    "version": 3
   },
   "file_extension": ".py",
   "mimetype": "text/x-python",
   "name": "python",
   "nbconvert_exporter": "python",
   "pygments_lexer": "ipython3",
   "version": "3.10.4"
  }
 },
 "nbformat": 4,
 "nbformat_minor": 5
}
